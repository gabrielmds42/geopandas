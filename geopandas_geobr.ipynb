{
 "cells": [
  {
   "cell_type": "code",
   "execution_count": 38,
   "metadata": {},
   "outputs": [],
   "source": [
    "import geopandas as gpd\n",
    "import geobr\n",
    "import matplotlib.pyplot as plt"
   ]
  },
  {
   "cell_type": "code",
   "execution_count": 39,
   "metadata": {},
   "outputs": [
    {
     "name": "stdout",
     "output_type": "stream",
     "text": [
      "Function: read_country\n",
      "Geographies available: Country\n",
      "Years available: 1872, 1900, 1911, 1920, 1933, 1940, 1950, 1960, 1970, 1980, 1991, 2000, 2001, 2010, 2013, 2014, 2015, 2016, 2017, 2018, 2019, 2020\n",
      "Source: IBGE\n",
      "------------------------------\n",
      "Function: read_region\n",
      "Geographies available: Region\n",
      "Years available: 2000, 2001, 2010, 2013, 2014, 2015, 2016, 2017, 2018, 2019, 2020\n",
      "Source: IBGE\n",
      "------------------------------\n",
      "Function: read_state\n",
      "Geographies available: States\n",
      "Years available: 1872, 1900, 1911, 1920, 1933, 1940, 1950, 1960, 1970, 1980, 1991, 2000, 2001, 2010, 2013, 2014, 2015, 2016, 2017, 2018, 2019, 2020\n",
      "Source: IBGE\n",
      "------------------------------\n",
      "Function: read_meso_region\n",
      "Geographies available: Meso region\n",
      "Years available: 2000, 2001, 2010, 2013, 2014, 2015, 2016, 2017, 2018, 2019, 2020\n",
      "Source: IBGE\n",
      "------------------------------\n",
      "Function: read_micro_region\n",
      "Geographies available: Micro region\n",
      "Years available: 2000, 2001, 2010, 2013, 2014, 2015, 2016, 2017, 2018, 2019, 2020\n",
      "Source: IBGE\n",
      "------------------------------\n",
      "Function: read_intermediate_region\n",
      "Geographies available: Intermediate region\n",
      "Years available: 2017, 2019, 2020\n",
      "Source: IBGE\n",
      "------------------------------\n",
      "Function: read_immediate_region\n",
      "Geographies available: Immediate region\n",
      "Years available: 2017, 2019, 2020\n",
      "Source: IBGE\n",
      "------------------------------\n",
      "Function: read_municipality\n",
      "Geographies available: Municipality\n",
      "Years available: 1872, 1900, 1911, 1920, 1933, 1940, 1950, 1960, 1970, 1980, 1991, 2000, 2001, 2005, 2007, 2010, 2013, 2014, 2015, 2016, 2017, 2018, 2019, 2020, 2021, 2022\n",
      "Source: IBGE\n",
      "------------------------------\n",
      "Function: read_municipal_seat\n",
      "Geographies available: Municipality seats (sedes municipais)\n",
      "Years available: 1872, 1900, 1911, 1920, 1933, 1940, 1950, 1960, 1970, 1980, 1991, 2010\n",
      "Source: IBGE\n",
      "------------------------------\n",
      "Function: read_weighting_area\n",
      "Geographies available: Census weighting area (área de ponderação)\n",
      "Years available: 2010\n",
      "Source: IBGE\n",
      "------------------------------\n",
      "Function: read_census_tract\n",
      "Geographies available: Census tract (setor censitário)\n",
      "Years available: 2000, 2010, 2017, 2019, 2020\n",
      "Source: IBGE\n",
      "------------------------------\n",
      "Function: read_statistical_grid\n",
      "Geographies available: Statistical Grid of 200 x 200 meters\n",
      "Years available: 2010\n",
      "Source: IBGE\n",
      "------------------------------\n",
      "Function: read_metro_area\n",
      "Geographies available: Metropolitan areas\n",
      "Years available: 1970, 2001, 2002, 2003, 2005, 2010, 2013, 2014, 2015, 2016, 2017, 2018\n",
      "Source: IBGE\n",
      "------------------------------\n",
      "Function: read_urban_area\n",
      "Geographies available: Urban footprints\n",
      "Years available: 2005, 2015\n",
      "Source: IBGE\n",
      "------------------------------\n",
      "Function: read_amazon\n",
      "Geographies available: Brazil's Legal Amazon\n",
      "Years available: 2012\n",
      "Source: MMA\n",
      "------------------------------\n",
      "Function: read_biomes\n",
      "Geographies available: Biomes\n",
      "Years available: 2004, 2019\n",
      "Source: IBGE\n",
      "------------------------------\n",
      "Function: read_conservation_units\n",
      "Geographies available: Environmental Conservation Units\n",
      "Years available: 201909\n",
      "Source: MMA\n",
      "------------------------------\n",
      "Function: read_disaster_risk_area\n",
      "Geographies available: Disaster risk areas\n",
      "Years available: 2010\n",
      "Source: CEMADEN and IBGE\n",
      "------------------------------\n",
      "Function: read_indigenous_land\n",
      "Geographies available: Indigenous lands\n",
      "Years available: 201907, 202103\n",
      "Source: FUNAI\n",
      "------------------------------\n",
      "Function: read_semiarid\n",
      "Geographies available: Semi Arid region\n",
      "Years available: 2005, 2017, 2021, 2022\n",
      "Source: IBGE\n",
      "------------------------------\n",
      "Function: read_health_facilities\n",
      "Geographies available: Health facilities\n",
      "Years available: 201505, 202303\n",
      "Source: CNES, DataSUS\n",
      "------------------------------\n",
      "Function: read_health_region\n",
      "Geographies available: Health regions and macro regions\n",
      "Years available: 1991, 1994, 1997, 2001, 2005, 2013\n",
      "Source: DataSUS\n",
      "------------------------------\n",
      "Function: read_neighborhood\n",
      "Geographies available: Neighborhood limits\n",
      "Years available: 2010\n",
      "Source: IBGE\n",
      "------------------------------\n",
      "Function: read_schools\n",
      "Geographies available: Schools\n",
      "Years available: 2020, 2023\n",
      "Source: INEP\n",
      "------------------------------\n",
      "Function: read_comparable_areas\n",
      "Geographies available: Historically comparable municipalities, aka Áreas mínimas comparáveis (AMCs)\n",
      "Years available: 1872, 1900, 1911, 1920, 1933, 1940, 1950, 1960, 1970, 1980, 1991, 2000, 2010\n",
      "Source: IBGE\n",
      "------------------------------\n",
      "Function: read_urban_concentrations\n",
      "Geographies available: Urban concentration areas (concentrações urbanas)\n",
      "Years available: 2015\n",
      "Source: IBGE\n",
      "------------------------------\n",
      "Function: read_pop_arrangements\n",
      "Geographies available: Population arrangements (arranjos populacionais)\n",
      "Years available: 2015\n",
      "Source: IBGE\n",
      "------------------------------\n"
     ]
    }
   ],
   "source": [
    "geobr.list_geobr()"
   ]
  },
  {
   "cell_type": "code",
   "execution_count": 40,
   "metadata": {},
   "outputs": [
    {
     "data": {
      "text/html": [
       "<div>\n",
       "<style scoped>\n",
       "    .dataframe tbody tr th:only-of-type {\n",
       "        vertical-align: middle;\n",
       "    }\n",
       "\n",
       "    .dataframe tbody tr th {\n",
       "        vertical-align: top;\n",
       "    }\n",
       "\n",
       "    .dataframe thead th {\n",
       "        text-align: right;\n",
       "    }\n",
       "</style>\n",
       "<table border=\"1\" class=\"dataframe\">\n",
       "  <thead>\n",
       "    <tr style=\"text-align: right;\">\n",
       "      <th></th>\n",
       "      <th>code_muni</th>\n",
       "      <th>name_muni</th>\n",
       "      <th>code_state</th>\n",
       "      <th>abbrev_state</th>\n",
       "      <th>name_state</th>\n",
       "      <th>code_region</th>\n",
       "      <th>name_region</th>\n",
       "      <th>geometry</th>\n",
       "    </tr>\n",
       "  </thead>\n",
       "  <tbody>\n",
       "    <tr>\n",
       "      <th>0</th>\n",
       "      <td>3500105.0</td>\n",
       "      <td>Adamantina</td>\n",
       "      <td>35.0</td>\n",
       "      <td>SP</td>\n",
       "      <td>São Paulo</td>\n",
       "      <td>3.0</td>\n",
       "      <td>Sudeste</td>\n",
       "      <td>MULTIPOLYGON (((-51.05425 -21.40465, -51.04624...</td>\n",
       "    </tr>\n",
       "    <tr>\n",
       "      <th>1</th>\n",
       "      <td>3500204.0</td>\n",
       "      <td>Adolfo</td>\n",
       "      <td>35.0</td>\n",
       "      <td>SP</td>\n",
       "      <td>São Paulo</td>\n",
       "      <td>3.0</td>\n",
       "      <td>Sudeste</td>\n",
       "      <td>MULTIPOLYGON (((-49.65795 -21.20333, -49.65361...</td>\n",
       "    </tr>\n",
       "    <tr>\n",
       "      <th>2</th>\n",
       "      <td>3500303.0</td>\n",
       "      <td>Aguaí</td>\n",
       "      <td>35.0</td>\n",
       "      <td>SP</td>\n",
       "      <td>São Paulo</td>\n",
       "      <td>3.0</td>\n",
       "      <td>Sudeste</td>\n",
       "      <td>MULTIPOLYGON (((-46.9764 -21.96818, -46.97399 ...</td>\n",
       "    </tr>\n",
       "    <tr>\n",
       "      <th>3</th>\n",
       "      <td>3500402.0</td>\n",
       "      <td>Águas Da Prata</td>\n",
       "      <td>35.0</td>\n",
       "      <td>SP</td>\n",
       "      <td>São Paulo</td>\n",
       "      <td>3.0</td>\n",
       "      <td>Sudeste</td>\n",
       "      <td>MULTIPOLYGON (((-46.73501 -21.81891, -46.72649...</td>\n",
       "    </tr>\n",
       "    <tr>\n",
       "      <th>4</th>\n",
       "      <td>3500501.0</td>\n",
       "      <td>Águas De Lindóia</td>\n",
       "      <td>35.0</td>\n",
       "      <td>SP</td>\n",
       "      <td>São Paulo</td>\n",
       "      <td>3.0</td>\n",
       "      <td>Sudeste</td>\n",
       "      <td>MULTIPOLYGON (((-46.60614 -22.44173, -46.60347...</td>\n",
       "    </tr>\n",
       "  </tbody>\n",
       "</table>\n",
       "</div>"
      ],
      "text/plain": [
       "   code_muni         name_muni  code_state abbrev_state name_state  \\\n",
       "0  3500105.0        Adamantina        35.0           SP  São Paulo   \n",
       "1  3500204.0            Adolfo        35.0           SP  São Paulo   \n",
       "2  3500303.0             Aguaí        35.0           SP  São Paulo   \n",
       "3  3500402.0    Águas Da Prata        35.0           SP  São Paulo   \n",
       "4  3500501.0  Águas De Lindóia        35.0           SP  São Paulo   \n",
       "\n",
       "   code_region name_region                                           geometry  \n",
       "0          3.0     Sudeste  MULTIPOLYGON (((-51.05425 -21.40465, -51.04624...  \n",
       "1          3.0     Sudeste  MULTIPOLYGON (((-49.65795 -21.20333, -49.65361...  \n",
       "2          3.0     Sudeste  MULTIPOLYGON (((-46.9764 -21.96818, -46.97399 ...  \n",
       "3          3.0     Sudeste  MULTIPOLYGON (((-46.73501 -21.81891, -46.72649...  \n",
       "4          3.0     Sudeste  MULTIPOLYGON (((-46.60614 -22.44173, -46.60347...  "
      ]
     },
     "execution_count": 40,
     "metadata": {},
     "output_type": "execute_result"
    }
   ],
   "source": [
    "muni = geobr.read_municipality(code_muni='SP', year=2020)\n",
    "muni.head()"
   ]
  },
  {
   "cell_type": "code",
   "execution_count": 41,
   "metadata": {},
   "outputs": [
    {
     "data": {
      "text/plain": [
       "<Axes: >"
      ]
     },
     "execution_count": 41,
     "metadata": {},
     "output_type": "execute_result"
    },
    {
     "data": {
      "image/png": "[encoded data removed]",
      "text/plain": [
       "<Figure size 640x480 with 1 Axes>"
      ]
     },
     "metadata": {},
     "output_type": "display_data"
    }
   ],
   "source": [
    "gdf_muni = muni[muni.name_muni=='Cravinhos']\n",
    "gdf_muni.plot()"
   ]
  },
  {
   "cell_type": "code",
   "execution_count": 42,
   "metadata": {},
   "outputs": [
    {
     "data": {
      "text/plain": [
       "<Geographic 2D CRS: EPSG:4326>\n",
       "Name: WGS 84\n",
       "Axis Info [ellipsoidal]:\n",
       "- Lat[north]: Geodetic latitude (degree)\n",
       "- Lon[east]: Geodetic longitude (degree)\n",
       "Area of Use:\n",
       "- name: World.\n",
       "- bounds: (-180.0, -90.0, 180.0, 90.0)\n",
       "Datum: World Geodetic System 1984 ensemble\n",
       "- Ellipsoid: WGS 84\n",
       "- Prime Meridian: Greenwich"
      ]
     },
     "execution_count": 42,
     "metadata": {},
     "output_type": "execute_result"
    }
   ],
   "source": [
    "gdf_muni.crs ='EPSG:4326'\n",
    "gdf_muni.crs"
   ]
  },
  {
   "cell_type": "code",
   "execution_count": 43,
   "metadata": {},
   "outputs": [
    {
     "data": {
      "text/html": [
       "<div>\n",
       "<style scoped>\n",
       "    .dataframe tbody tr th:only-of-type {\n",
       "        vertical-align: middle;\n",
       "    }\n",
       "\n",
       "    .dataframe tbody tr th {\n",
       "        vertical-align: top;\n",
       "    }\n",
       "\n",
       "    .dataframe thead th {\n",
       "        text-align: right;\n",
       "    }\n",
       "</style>\n",
       "<table border=\"1\" class=\"dataframe\">\n",
       "  <thead>\n",
       "    <tr style=\"text-align: right;\">\n",
       "      <th></th>\n",
       "      <th>code_conservation_unit</th>\n",
       "      <th>name_conservation_unit</th>\n",
       "      <th>id_wcm</th>\n",
       "      <th>category</th>\n",
       "      <th>group</th>\n",
       "      <th>government_level</th>\n",
       "      <th>creation_year</th>\n",
       "      <th>gid7</th>\n",
       "      <th>quality</th>\n",
       "      <th>legislation</th>\n",
       "      <th>dt_ultim10</th>\n",
       "      <th>code_u111</th>\n",
       "      <th>name_organization</th>\n",
       "      <th>date</th>\n",
       "      <th>geometry</th>\n",
       "    </tr>\n",
       "  </thead>\n",
       "  <tbody>\n",
       "    <tr>\n",
       "      <th>0</th>\n",
       "      <td>2350</td>\n",
       "      <td>RESERVA PARTICULAR DO PATRIMÔNIO NATURAL BUGIO...</td>\n",
       "      <td>None</td>\n",
       "      <td>Reserva Particular do Patrimônio Natural</td>\n",
       "      <td>US</td>\n",
       "      <td>estadual</td>\n",
       "      <td>2010</td>\n",
       "      <td>6101</td>\n",
       "      <td>Aproximado (O poligono representa uma estimati...</td>\n",
       "      <td>Outros nº 74-S de 22/02/2010</td>\n",
       "      <td>31/08/2012</td>\n",
       "      <td>0000.32.2350</td>\n",
       "      <td>Instituto Estadual de Meio Ambiente e Recursos...</td>\n",
       "      <td>201909.0</td>\n",
       "      <td>MULTIPOLYGON (((-40.96875 -20.06128, -40.96906...</td>\n",
       "    </tr>\n",
       "    <tr>\n",
       "      <th>1</th>\n",
       "      <td>3787</td>\n",
       "      <td>AREA DE PROTECAO AMBIENTAL DA BACIA DO CORREGO...</td>\n",
       "      <td>None</td>\n",
       "      <td>Área de Proteção Ambiental</td>\n",
       "      <td>US</td>\n",
       "      <td>municipal</td>\n",
       "      <td>2018</td>\n",
       "      <td>15289</td>\n",
       "      <td>Correto (O poligono corresponde ao memorial de...</td>\n",
       "      <td>Decreto nº 051/2018 de 20/09/2018</td>\n",
       "      <td>20/09/2018</td>\n",
       "      <td>1480.52.3787</td>\n",
       "      <td>Secretaria Municipal de Meio Ambiente de Nova ...</td>\n",
       "      <td>201909.0</td>\n",
       "      <td>MULTIPOLYGON (((-48.25389 -18.04416, -48.2564 ...</td>\n",
       "    </tr>\n",
       "    <tr>\n",
       "      <th>2</th>\n",
       "      <td>3445</td>\n",
       "      <td>RESERVA PARTICULAR DO PATRIMÔNIO NATURAL PILAR</td>\n",
       "      <td>None</td>\n",
       "      <td>Reserva Particular do Patrimônio Natural</td>\n",
       "      <td>US</td>\n",
       "      <td>estadual</td>\n",
       "      <td>2013</td>\n",
       "      <td>13500</td>\n",
       "      <td>Correto (O poligono corresponde ao memorial de...</td>\n",
       "      <td>Portaria nº 466 de 27/06/2013</td>\n",
       "      <td>10/07/2017</td>\n",
       "      <td>0000.33.3445</td>\n",
       "      <td>Instituto Estadual do Ambiente do Rio de Janeiro</td>\n",
       "      <td>201909.0</td>\n",
       "      <td>MULTIPOLYGON (((-42.79637 -22.86341, -42.79632...</td>\n",
       "    </tr>\n",
       "    <tr>\n",
       "      <th>3</th>\n",
       "      <td>145</td>\n",
       "      <td>PARQUE NACIONAL DA SERRA DA CAPIVARA</td>\n",
       "      <td>64</td>\n",
       "      <td>Parque</td>\n",
       "      <td>PI</td>\n",
       "      <td>federal</td>\n",
       "      <td>1979</td>\n",
       "      <td>6506</td>\n",
       "      <td>Aproximado (O poligono representa uma estimati...</td>\n",
       "      <td>Decreto nº 83548 de 05/06/1979</td>\n",
       "      <td>27/09/2007</td>\n",
       "      <td>0000.00.0145</td>\n",
       "      <td>Instituto Chico Mendes de Conservação da Biodi...</td>\n",
       "      <td>201909.0</td>\n",
       "      <td>MULTIPOLYGON (((-42.57484 -8.57399, -42.57355 ...</td>\n",
       "    </tr>\n",
       "    <tr>\n",
       "      <th>4</th>\n",
       "      <td>1754</td>\n",
       "      <td>FLORESTA ESTADUAL DO ARAGUAIA</td>\n",
       "      <td>None</td>\n",
       "      <td>Floresta</td>\n",
       "      <td>US</td>\n",
       "      <td>estadual</td>\n",
       "      <td>2002</td>\n",
       "      <td>2983</td>\n",
       "      <td>Correto (O poligono corresponde ao memorial de...</td>\n",
       "      <td>Decreto nº 5.630 de 07/08/2002</td>\n",
       "      <td>06/08/2009</td>\n",
       "      <td>0000.52.1754</td>\n",
       "      <td>Secretaria Estadual do Meio Ambiente e dos Rec...</td>\n",
       "      <td>201909.0</td>\n",
       "      <td>MULTIPOLYGON (((-50.58059 -13.21449, -50.57208...</td>\n",
       "    </tr>\n",
       "  </tbody>\n",
       "</table>\n",
       "</div>"
      ],
      "text/plain": [
       "  code_conservation_unit                             name_conservation_unit  \\\n",
       "0                   2350  RESERVA PARTICULAR DO PATRIMÔNIO NATURAL BUGIO...   \n",
       "1                   3787  AREA DE PROTECAO AMBIENTAL DA BACIA DO CORREGO...   \n",
       "2                   3445     RESERVA PARTICULAR DO PATRIMÔNIO NATURAL PILAR   \n",
       "3                    145               PARQUE NACIONAL DA SERRA DA CAPIVARA   \n",
       "4                   1754                      FLORESTA ESTADUAL DO ARAGUAIA   \n",
       "\n",
       "  id_wcm                                  category group government_level  \\\n",
       "0   None  Reserva Particular do Patrimônio Natural    US         estadual   \n",
       "1   None                Área de Proteção Ambiental    US        municipal   \n",
       "2   None  Reserva Particular do Patrimônio Natural    US         estadual   \n",
       "3     64                                    Parque    PI          federal   \n",
       "4   None                                  Floresta    US         estadual   \n",
       "\n",
       "  creation_year   gid7                                            quality  \\\n",
       "0          2010   6101  Aproximado (O poligono representa uma estimati...   \n",
       "1          2018  15289  Correto (O poligono corresponde ao memorial de...   \n",
       "2          2013  13500  Correto (O poligono corresponde ao memorial de...   \n",
       "3          1979   6506  Aproximado (O poligono representa uma estimati...   \n",
       "4          2002   2983  Correto (O poligono corresponde ao memorial de...   \n",
       "\n",
       "                         legislation  dt_ultim10     code_u111  \\\n",
       "0       Outros nº 74-S de 22/02/2010  31/08/2012  0000.32.2350   \n",
       "1  Decreto nº 051/2018 de 20/09/2018  20/09/2018  1480.52.3787   \n",
       "2      Portaria nº 466 de 27/06/2013  10/07/2017  0000.33.3445   \n",
       "3     Decreto nº 83548 de 05/06/1979  27/09/2007  0000.00.0145   \n",
       "4     Decreto nº 5.630 de 07/08/2002  06/08/2009  0000.52.1754   \n",
       "\n",
       "                                   name_organization      date  \\\n",
       "0  Instituto Estadual de Meio Ambiente e Recursos...  201909.0   \n",
       "1  Secretaria Municipal de Meio Ambiente de Nova ...  201909.0   \n",
       "2   Instituto Estadual do Ambiente do Rio de Janeiro  201909.0   \n",
       "3  Instituto Chico Mendes de Conservação da Biodi...  201909.0   \n",
       "4  Secretaria Estadual do Meio Ambiente e dos Rec...  201909.0   \n",
       "\n",
       "                                            geometry  \n",
       "0  MULTIPOLYGON (((-40.96875 -20.06128, -40.96906...  \n",
       "1  MULTIPOLYGON (((-48.25389 -18.04416, -48.2564 ...  \n",
       "2  MULTIPOLYGON (((-42.79637 -22.86341, -42.79632...  \n",
       "3  MULTIPOLYGON (((-42.57484 -8.57399, -42.57355 ...  \n",
       "4  MULTIPOLYGON (((-50.58059 -13.21449, -50.57208...  "
      ]
     },
     "execution_count": 43,
     "metadata": {},
     "output_type": "execute_result"
    }
   ],
   "source": [
    "uc_gdf= geobr.read_conservation_units(date=201909, simplified=True, verbose=True)\n",
    "uc_gdf.head()"
   ]
  },
  {
   "cell_type": "code",
   "execution_count": 44,
   "metadata": {},
   "outputs": [
    {
     "data": {
      "text/plain": [
       "<Geographic 2D CRS: EPSG:4326>\n",
       "Name: WGS 84\n",
       "Axis Info [ellipsoidal]:\n",
       "- Lat[north]: Geodetic latitude (degree)\n",
       "- Lon[east]: Geodetic longitude (degree)\n",
       "Area of Use:\n",
       "- name: World.\n",
       "- bounds: (-180.0, -90.0, 180.0, 90.0)\n",
       "Datum: World Geodetic System 1984 ensemble\n",
       "- Ellipsoid: WGS 84\n",
       "- Prime Meridian: Greenwich"
      ]
     },
     "execution_count": 44,
     "metadata": {},
     "output_type": "execute_result"
    }
   ],
   "source": [
    "uc_gdf.crs = 'EPSG:4326'\n",
    "uc_gdf.crs"
   ]
  },
  {
   "cell_type": "code",
   "execution_count": 45,
   "metadata": {},
   "outputs": [
    {
     "data": {
      "text/plain": [
       "True"
      ]
     },
     "execution_count": 45,
     "metadata": {},
     "output_type": "execute_result"
    }
   ],
   "source": [
    "uc_gdf.crs==gdf_muni.crs"
   ]
  },
  {
   "cell_type": "code",
   "execution_count": 46,
   "metadata": {},
   "outputs": [
    {
     "data": {
      "text/html": [
       "<div>\n",
       "<style scoped>\n",
       "    .dataframe tbody tr th:only-of-type {\n",
       "        vertical-align: middle;\n",
       "    }\n",
       "\n",
       "    .dataframe tbody tr th {\n",
       "        vertical-align: top;\n",
       "    }\n",
       "\n",
       "    .dataframe thead th {\n",
       "        text-align: right;\n",
       "    }\n",
       "</style>\n",
       "<table border=\"1\" class=\"dataframe\">\n",
       "  <thead>\n",
       "    <tr style=\"text-align: right;\">\n",
       "      <th></th>\n",
       "      <th>code_conservation_unit</th>\n",
       "      <th>name_conservation_unit</th>\n",
       "      <th>id_wcm</th>\n",
       "      <th>category</th>\n",
       "      <th>group</th>\n",
       "      <th>government_level</th>\n",
       "      <th>creation_year</th>\n",
       "      <th>gid7</th>\n",
       "      <th>quality</th>\n",
       "      <th>legislation</th>\n",
       "      <th>...</th>\n",
       "      <th>date</th>\n",
       "      <th>geometry</th>\n",
       "      <th>index_right</th>\n",
       "      <th>code_muni</th>\n",
       "      <th>name_muni</th>\n",
       "      <th>code_state</th>\n",
       "      <th>abbrev_state</th>\n",
       "      <th>name_state</th>\n",
       "      <th>code_region</th>\n",
       "      <th>name_region</th>\n",
       "    </tr>\n",
       "  </thead>\n",
       "  <tbody>\n",
       "    <tr>\n",
       "      <th>672</th>\n",
       "      <td>2697</td>\n",
       "      <td>ESTAçãO ECOLóGICA DE SANTA MARIA</td>\n",
       "      <td>None</td>\n",
       "      <td>Estação Ecológica</td>\n",
       "      <td>PI</td>\n",
       "      <td>estadual</td>\n",
       "      <td>1985</td>\n",
       "      <td>6973</td>\n",
       "      <td>Aproximado (O poligono representa uma estimati...</td>\n",
       "      <td>Decreto nº 23.792 de 14/08/1985</td>\n",
       "      <td>...</td>\n",
       "      <td>201909.0</td>\n",
       "      <td>MULTIPOLYGON (((-47.63024 -21.35987, -47.62512...</td>\n",
       "      <td>145</td>\n",
       "      <td>3513108.0</td>\n",
       "      <td>Cravinhos</td>\n",
       "      <td>35.0</td>\n",
       "      <td>SP</td>\n",
       "      <td>São Paulo</td>\n",
       "      <td>3.0</td>\n",
       "      <td>Sudeste</td>\n",
       "    </tr>\n",
       "  </tbody>\n",
       "</table>\n",
       "<p>1 rows × 23 columns</p>\n",
       "</div>"
      ],
      "text/plain": [
       "    code_conservation_unit            name_conservation_unit id_wcm  \\\n",
       "672                   2697  ESTAçãO ECOLóGICA DE SANTA MARIA   None   \n",
       "\n",
       "              category group government_level creation_year  gid7  \\\n",
       "672  Estação Ecológica    PI         estadual          1985  6973   \n",
       "\n",
       "                                               quality  \\\n",
       "672  Aproximado (O poligono representa uma estimati...   \n",
       "\n",
       "                         legislation  ...      date  \\\n",
       "672  Decreto nº 23.792 de 14/08/1985  ...  201909.0   \n",
       "\n",
       "                                              geometry index_right  code_muni  \\\n",
       "672  MULTIPOLYGON (((-47.63024 -21.35987, -47.62512...         145  3513108.0   \n",
       "\n",
       "     name_muni  code_state  abbrev_state name_state  code_region name_region  \n",
       "672  Cravinhos        35.0            SP  São Paulo          3.0     Sudeste  \n",
       "\n",
       "[1 rows x 23 columns]"
      ]
     },
     "execution_count": 46,
     "metadata": {},
     "output_type": "execute_result"
    }
   ],
   "source": [
    "uc_gdf_poa = gpd.sjoin(uc_gdf, gdf_muni)\n",
    "uc_gdf_poa"
   ]
  },
  {
   "cell_type": "code",
   "execution_count": 47,
   "metadata": {},
   "outputs": [
    {
     "data": {
      "text/plain": [
       "<Axes: >"
      ]
     },
     "execution_count": 47,
     "metadata": {},
     "output_type": "execute_result"
    },
    {
     "data": {
      "image/png": "[encoded data removed]",
      "text/plain": [
       "<Figure size 640x480 with 1 Axes>"
      ]
     },
     "metadata": {},
     "output_type": "display_data"
    }
   ],
   "source": [
    "uc_gdf_poa.plot()"
   ]
  },
  {
   "cell_type": "code",
   "execution_count": 48,
   "metadata": {},
   "outputs": [
    {
     "name": "stderr",
     "output_type": "stream",
     "text": [
      "/tmp/ipykernel_14783/1712129855.py:3: UserWarning: Only specify one of 'column' or 'color'. Using 'color'.\n",
      "  uc_gdf_poa.plot(ax=base, column='group', legend=True,cmap='Pastel2' ,color='green', alpha=0.5)\n"
     ]
    },
    {
     "data": {
      "text/plain": [
       "<Axes: >"
      ]
     },
     "execution_count": 48,
     "metadata": {},
     "output_type": "execute_result"
    },
    {
     "data": {
      "image/png": "[encoded data removed]",
      "text/plain": [
       "<Figure size 1000x1000 with 1 Axes>"
      ]
     },
     "metadata": {},
     "output_type": "display_data"
    }
   ],
   "source": [
    "fig, ax=plt.subplots(figsize=(10, 10))\n",
    "base = gdf_muni.plot(ax=ax, color='white', edgecolor='black')\n",
    "uc_gdf_poa.plot(ax=base, column='group', legend=True,cmap='Pastel2' ,color='green', alpha=0.5)"
   ]
  }
 ],
 "metadata": {
  "kernelspec": {
   "display_name": "venv",
   "language": "python",
   "name": "python3"
  },
  "language_info": {
   "codemirror_mode": {
    "name": "ipython",
    "version": 3
   },
   "file_extension": ".py",
   "mimetype": "text/x-python",
   "name": "python",
   "nbconvert_exporter": "python",
   "pygments_lexer": "ipython3",
   "version": "3.13.1"
  }
 },
 "nbformat": 4,
 "nbformat_minor": 2
}
